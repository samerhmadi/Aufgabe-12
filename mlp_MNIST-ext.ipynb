{
 "cells": [
  {
   "cell_type": "markdown",
   "metadata": {},
   "source": [
    "# ANN Intro extended\n",
    "\n",
    "This NB is constructed such that it also runs in reasonable time on Laptop CPUs (e.g. an i3)\n",
    "\n",
    "It builds on the NB from the last practical."
   ]
  },
  {
   "cell_type": "markdown",
   "metadata": {},
   "source": [
    "## Local Setup\n",
    "\n",
    "There are different options to set up the TensorFlow library (which now includes [Keras](https://keras.io) as backend library) on your own computer. The simplest of them is using only the CPU and can be installed in 1 command via [`conda`](https://docs.anaconda.com/anaconda/user-guide/tasks/tensorflow/), in an anaconda shell run:\n",
    "\n",
    "```\n",
    "conda install tensorflow\n",
    "```\n",
    "\n",
    "**NOTE**: TF migth not be compatible with your current environment, so here we create a [new environment](https://conda.io/docs/user-guide/tasks/manage-environments.html#creating-an-environment-with-commands) first:\n",
    "\n",
    "```\n",
    "conda create -n tf tensorflow\n",
    "conda activate tf\n",
    "```\n",
    "\n",
    "In that case you need to install jupyter, scikit-learn, matplotlib, numpy and pandas in that environment again, with e.g.:\n",
    "\n",
    "```\n",
    "conda install jupyter scikit-learn matplotlib numpy pandas\n",
    "```\n",
    "\n",
    "(If you have a [supported Nvidia graphics card](https://developer.nvidia.com/cuda-gpus) in your machine and would like to use it for accelerated network training, make sure to follow [this guide](https://www.tensorflow.org/install/gpu) to install required packages and finally use the `tensorflow-gpu` library.)\n",
    "\n",
    "The usage of the TensorFlow library in Python will be the same for CPU and GPU."
   ]
  },
  {
   "cell_type": "code",
   "execution_count": 1,
   "metadata": {},
   "outputs": [
    {
     "data": {
      "text/plain": [
       "dict_keys(['data', 'target', 'frame', 'categories', 'feature_names', 'target_names', 'DESCR', 'details', 'url'])"
      ]
     },
     "execution_count": 1,
     "metadata": {},
     "output_type": "execute_result"
    }
   ],
   "source": [
    "## fetch MNIST dataset (as done in last NB)\n",
    "from sklearn.datasets import fetch_openml\n",
    "mnist = fetch_openml('mnist_784', version=1)\n",
    "mnist.keys()"
   ]
  },
  {
   "cell_type": "code",
   "execution_count": 2,
   "metadata": {},
   "outputs": [
    {
     "name": "stdout",
     "output_type": "stream",
     "text": [
      "1.0\n"
     ]
    },
    {
     "data": {
      "text/plain": [
       "(50000, 784)"
      ]
     },
     "execution_count": 2,
     "metadata": {},
     "output_type": "execute_result"
    }
   ],
   "source": [
    "## Scale the input data into the range [0, 1]\n",
    "## use sklearn's train_test_split to split the data into \n",
    "## 50000 instances for training, 10000 for validation and 10000 for testing\n",
    "from sklearn.model_selection import train_test_split\n",
    "\n",
    "X= mnist.data\n",
    "X= X / 255.0\n",
    "print(X.max())\n",
    "y= mnist.target\n",
    "\n",
    "X_train_val, X_test, y_train_val, y_test = train_test_split(\n",
    "    X, y, test_size=10000, random_state=42)\n",
    "\n",
    "X_train, X_val, y_train, y_val = train_test_split(\n",
    "    X_train_val, y_train_val, test_size=10000, random_state=42)\n",
    "\n",
    "X_train.shape"
   ]
  },
  {
   "cell_type": "markdown",
   "metadata": {},
   "source": [
    "Now it's time to test your TensorFlow installation by importing the package. The following code cell should execute without errors:"
   ]
  },
  {
   "cell_type": "code",
   "execution_count": 3,
   "metadata": {},
   "outputs": [],
   "source": [
    "import tensorflow as tf"
   ]
  },
  {
   "cell_type": "markdown",
   "metadata": {},
   "source": [
    "Now let's check which computing devices TensorFlow has found on this machine. If you don't have the GPU setup on your computer, the list should just contain one CPU: `/device:CPU:0` "
   ]
  },
  {
   "cell_type": "code",
   "execution_count": 4,
   "metadata": {},
   "outputs": [
    {
     "name": "stdout",
     "output_type": "stream",
     "text": [
      "[name: \"/device:CPU:0\"\n",
      "device_type: \"CPU\"\n",
      "memory_limit: 268435456\n",
      "locality {\n",
      "}\n",
      "incarnation: 3981664364061131677\n",
      "]\n"
     ]
    }
   ],
   "source": [
    "from tensorflow.python.client import device_lib\n",
    "print(device_lib.list_local_devices())"
   ]
  },
  {
   "cell_type": "markdown",
   "metadata": {},
   "source": [
    "The cell below creates a similar MLP as above using tf.keras, see also this [tutorial network](https://github.com/keras-team/keras/blob/fcc0bfa354c5a47625d681d0297a66ef9ff43a9e/examples/mnist_mlp.py) which also uses the MNIST dataset.\n",
    "\n",
    "Keras has a nice method `model.summary()` that prints a tabular overview of your network architecture, together with the input/output dimensions and number of parameters for each layer."
   ]
  },
  {
   "cell_type": "code",
   "execution_count": 49,
   "metadata": {},
   "outputs": [
    {
     "name": "stdout",
     "output_type": "stream",
     "text": [
      "2.3.0\n",
      "2.4.0\n",
      "50000 train samples\n",
      "10000 test samples\n",
      "Model: \"sequential_3\"\n",
      "_________________________________________________________________\n",
      "Layer (type)                 Output Shape              Param #   \n",
      "=================================================================\n",
      "dense_9 (Dense)              (None, 100)               78500     \n",
      "_________________________________________________________________\n",
      "dense_10 (Dense)             (None, 50)                5050      \n",
      "_________________________________________________________________\n",
      "dense_11 (Dense)             (None, 10)                510       \n",
      "=================================================================\n",
      "Total params: 84,060\n",
      "Trainable params: 84,060\n",
      "Non-trainable params: 0\n",
      "_________________________________________________________________\n",
      "Epoch 1/100\n",
      "500/500 [==============================] - 1s 3ms/step - loss: 0.3647 - accuracy: 0.8962 - val_loss: 0.1877 - val_accuracy: 0.9456\n",
      "Epoch 2/100\n",
      "500/500 [==============================] - 1s 2ms/step - loss: 0.1520 - accuracy: 0.9552 - val_loss: 0.1328 - val_accuracy: 0.9633\n",
      "Epoch 3/100\n",
      "500/500 [==============================] - 1s 2ms/step - loss: 0.1040 - accuracy: 0.9689 - val_loss: 0.1036 - val_accuracy: 0.9697\n",
      "Epoch 4/100\n",
      "500/500 [==============================] - 1s 2ms/step - loss: 0.0779 - accuracy: 0.9766 - val_loss: 0.1026 - val_accuracy: 0.9676\n",
      "Epoch 5/100\n",
      "500/500 [==============================] - 1s 2ms/step - loss: 0.0617 - accuracy: 0.9814 - val_loss: 0.0947 - val_accuracy: 0.9708\n",
      "Epoch 6/100\n",
      "500/500 [==============================] - 1s 2ms/step - loss: 0.0504 - accuracy: 0.9845 - val_loss: 0.0845 - val_accuracy: 0.9747\n",
      "Epoch 7/100\n",
      "500/500 [==============================] - 1s 2ms/step - loss: 0.0408 - accuracy: 0.9872 - val_loss: 0.0866 - val_accuracy: 0.9754\n",
      "Epoch 8/100\n",
      "500/500 [==============================] - 1s 2ms/step - loss: 0.0336 - accuracy: 0.9895 - val_loss: 0.0925 - val_accuracy: 0.9732\n",
      "Epoch 9/100\n",
      "500/500 [==============================] - 1s 2ms/step - loss: 0.0292 - accuracy: 0.9909 - val_loss: 0.0845 - val_accuracy: 0.9763\n",
      "Epoch 10/100\n",
      "500/500 [==============================] - 1s 2ms/step - loss: 0.0232 - accuracy: 0.9928 - val_loss: 0.0919 - val_accuracy: 0.9753\n",
      "Epoch 11/100\n",
      "500/500 [==============================] - 1s 2ms/step - loss: 0.0198 - accuracy: 0.9942 - val_loss: 0.0897 - val_accuracy: 0.9757\n",
      "Epoch 12/100\n",
      "500/500 [==============================] - 1s 2ms/step - loss: 0.0165 - accuracy: 0.9949 - val_loss: 0.0982 - val_accuracy: 0.9751\n",
      "Epoch 13/100\n",
      "500/500 [==============================] - 1s 3ms/step - loss: 0.0147 - accuracy: 0.9955 - val_loss: 0.0952 - val_accuracy: 0.9747\n",
      "Epoch 14/100\n",
      "500/500 [==============================] - 1s 3ms/step - loss: 0.0138 - accuracy: 0.9959 - val_loss: 0.1038 - val_accuracy: 0.9760\n",
      "Epoch 15/100\n",
      "500/500 [==============================] - 1s 2ms/step - loss: 0.0104 - accuracy: 0.9970 - val_loss: 0.1019 - val_accuracy: 0.9769\n",
      "Epoch 16/100\n",
      "500/500 [==============================] - 1s 2ms/step - loss: 0.0118 - accuracy: 0.9962 - val_loss: 0.1080 - val_accuracy: 0.9756\n",
      "Epoch 17/100\n",
      "500/500 [==============================] - 1s 2ms/step - loss: 0.0098 - accuracy: 0.9969 - val_loss: 0.1034 - val_accuracy: 0.9771\n",
      "Epoch 18/100\n",
      "500/500 [==============================] - 1s 2ms/step - loss: 0.0073 - accuracy: 0.9978 - val_loss: 0.1174 - val_accuracy: 0.9734\n",
      "Epoch 19/100\n",
      "500/500 [==============================] - 1s 2ms/step - loss: 0.0113 - accuracy: 0.9960 - val_loss: 0.1213 - val_accuracy: 0.9720\n",
      "Epoch 20/100\n",
      "500/500 [==============================] - 1s 2ms/step - loss: 0.0085 - accuracy: 0.9970 - val_loss: 0.1080 - val_accuracy: 0.9782\n",
      "Epoch 21/100\n",
      "500/500 [==============================] - 1s 2ms/step - loss: 0.0055 - accuracy: 0.9986 - val_loss: 0.1096 - val_accuracy: 0.9789\n",
      "Epoch 22/100\n",
      "500/500 [==============================] - 1s 2ms/step - loss: 0.0045 - accuracy: 0.9988 - val_loss: 0.1155 - val_accuracy: 0.9764\n",
      "Epoch 23/100\n",
      "500/500 [==============================] - 1s 2ms/step - loss: 0.0105 - accuracy: 0.9965 - val_loss: 0.1076 - val_accuracy: 0.9775\n",
      "Epoch 24/100\n",
      "500/500 [==============================] - 1s 2ms/step - loss: 0.0087 - accuracy: 0.9973 - val_loss: 0.1233 - val_accuracy: 0.9757\n",
      "Epoch 25/100\n",
      "500/500 [==============================] - 1s 2ms/step - loss: 0.0072 - accuracy: 0.9976 - val_loss: 0.1338 - val_accuracy: 0.9731\n",
      "Epoch 26/100\n",
      "500/500 [==============================] - 1s 2ms/step - loss: 0.0053 - accuracy: 0.9984 - val_loss: 0.1160 - val_accuracy: 0.9784\n",
      "Epoch 27/100\n",
      "500/500 [==============================] - 1s 2ms/step - loss: 0.0037 - accuracy: 0.9989 - val_loss: 0.1296 - val_accuracy: 0.9752\n",
      "Epoch 28/100\n",
      "500/500 [==============================] - 1s 2ms/step - loss: 0.0079 - accuracy: 0.9972 - val_loss: 0.1301 - val_accuracy: 0.9751\n",
      "Epoch 29/100\n",
      "500/500 [==============================] - 1s 3ms/step - loss: 0.0026 - accuracy: 0.9993 - val_loss: 0.1269 - val_accuracy: 0.9758\n",
      "Epoch 30/100\n",
      "500/500 [==============================] - 1s 3ms/step - loss: 0.0024 - accuracy: 0.9995 - val_loss: 0.1237 - val_accuracy: 0.9768\n",
      "Epoch 31/100\n",
      "500/500 [==============================] - 1s 2ms/step - loss: 0.0104 - accuracy: 0.9968 - val_loss: 0.1366 - val_accuracy: 0.9757\n",
      "Epoch 32/100\n",
      "500/500 [==============================] - 1s 2ms/step - loss: 0.0080 - accuracy: 0.9974 - val_loss: 0.1483 - val_accuracy: 0.9746\n",
      "Epoch 33/100\n",
      "500/500 [==============================] - 1s 2ms/step - loss: 0.0030 - accuracy: 0.9991 - val_loss: 0.1183 - val_accuracy: 0.9793\n",
      "Epoch 34/100\n",
      "500/500 [==============================] - 1s 2ms/step - loss: 0.0010 - accuracy: 0.9998 - val_loss: 0.1288 - val_accuracy: 0.9777\n",
      "Epoch 35/100\n",
      "500/500 [==============================] - 1s 2ms/step - loss: 0.0085 - accuracy: 0.9970 - val_loss: 0.1500 - val_accuracy: 0.9743\n",
      "Epoch 36/100\n",
      "500/500 [==============================] - 1s 2ms/step - loss: 0.0065 - accuracy: 0.9980 - val_loss: 0.1293 - val_accuracy: 0.9785\n",
      "Epoch 37/100\n",
      "500/500 [==============================] - 1s 2ms/step - loss: 9.9198e-04 - accuracy: 0.9998 - val_loss: 0.1255 - val_accuracy: 0.9801\n",
      "Epoch 38/100\n",
      "500/500 [==============================] - 1s 2ms/step - loss: 3.0369e-04 - accuracy: 1.0000 - val_loss: 0.1240 - val_accuracy: 0.9792\n",
      "Epoch 39/100\n",
      "500/500 [==============================] - 1s 2ms/step - loss: 1.0702e-04 - accuracy: 1.0000 - val_loss: 0.1264 - val_accuracy: 0.9795\n",
      "Epoch 40/100\n",
      "500/500 [==============================] - 1s 2ms/step - loss: 7.6994e-05 - accuracy: 1.0000 - val_loss: 0.1269 - val_accuracy: 0.9796\n",
      "Epoch 41/100\n",
      "500/500 [==============================] - 1s 2ms/step - loss: 6.3501e-05 - accuracy: 1.0000 - val_loss: 0.1281 - val_accuracy: 0.9798\n",
      "Epoch 42/100\n",
      "500/500 [==============================] - 1s 3ms/step - loss: 5.3623e-05 - accuracy: 1.0000 - val_loss: 0.1280 - val_accuracy: 0.9800\n",
      "Epoch 43/100\n",
      "500/500 [==============================] - ETA: 0s - loss: 4.5390e-05 - accuracy: 1.00 - 1s 3ms/step - loss: 4.5599e-05 - accuracy: 1.0000 - val_loss: 0.1292 - val_accuracy: 0.9797\n",
      "Epoch 44/100\n",
      "500/500 [==============================] - 1s 3ms/step - loss: 3.9167e-05 - accuracy: 1.0000 - val_loss: 0.1311 - val_accuracy: 0.9796\n",
      "Epoch 45/100\n",
      "500/500 [==============================] - 1s 3ms/step - loss: 3.3502e-05 - accuracy: 1.0000 - val_loss: 0.1321 - val_accuracy: 0.9800\n",
      "Epoch 46/100\n",
      "500/500 [==============================] - 1s 2ms/step - loss: 2.8183e-05 - accuracy: 1.0000 - val_loss: 0.1325 - val_accuracy: 0.9803\n",
      "Epoch 47/100\n",
      "500/500 [==============================] - 1s 2ms/step - loss: 2.5229e-05 - accuracy: 1.0000 - val_loss: 0.1348 - val_accuracy: 0.9801\n",
      "Epoch 48/100\n",
      "500/500 [==============================] - 1s 2ms/step - loss: 1.9937e-05 - accuracy: 1.0000 - val_loss: 0.1364 - val_accuracy: 0.9800\n",
      "Epoch 49/100\n",
      "500/500 [==============================] - 1s 2ms/step - loss: 1.6942e-05 - accuracy: 1.0000 - val_loss: 0.1372 - val_accuracy: 0.9804\n",
      "Epoch 50/100\n",
      "500/500 [==============================] - 1s 2ms/step - loss: 1.5326e-05 - accuracy: 1.0000 - val_loss: 0.1392 - val_accuracy: 0.9798\n",
      "Epoch 51/100\n",
      "500/500 [==============================] - 1s 2ms/step - loss: 0.0106 - accuracy: 0.9977 - val_loss: 0.2736 - val_accuracy: 0.9581\n",
      "Epoch 52/100\n",
      "500/500 [==============================] - 1s 2ms/step - loss: 0.0267 - accuracy: 0.9925 - val_loss: 0.1250 - val_accuracy: 0.9777\n",
      "Epoch 53/100\n",
      "500/500 [==============================] - 1s 2ms/step - loss: 0.0034 - accuracy: 0.9991 - val_loss: 0.1385 - val_accuracy: 0.9780\n",
      "Epoch 54/100\n",
      "500/500 [==============================] - 1s 2ms/step - loss: 0.0016 - accuracy: 0.9996 - val_loss: 0.1415 - val_accuracy: 0.9781\n",
      "Epoch 55/100\n",
      "500/500 [==============================] - 1s 2ms/step - loss: 4.3140e-04 - accuracy: 0.9999 - val_loss: 0.1364 - val_accuracy: 0.9786\n",
      "Epoch 56/100\n",
      "500/500 [==============================] - 1s 3ms/step - loss: 1.0436e-04 - accuracy: 1.0000 - val_loss: 0.1332 - val_accuracy: 0.9792\n",
      "Epoch 57/100\n",
      "500/500 [==============================] - 1s 2ms/step - loss: 6.4437e-05 - accuracy: 1.0000 - val_loss: 0.1339 - val_accuracy: 0.9793\n",
      "Epoch 58/100\n",
      "500/500 [==============================] - 1s 3ms/step - loss: 5.1854e-05 - accuracy: 1.0000 - val_loss: 0.1351 - val_accuracy: 0.9793\n",
      "Epoch 59/100\n",
      "500/500 [==============================] - 1s 2ms/step - loss: 4.2613e-05 - accuracy: 1.0000 - val_loss: 0.1361 - val_accuracy: 0.9793\n",
      "Epoch 60/100\n",
      "500/500 [==============================] - 1s 2ms/step - loss: 3.5818e-05 - accuracy: 1.0000 - val_loss: 0.1370 - val_accuracy: 0.9800\n",
      "Epoch 61/100\n",
      "500/500 [==============================] - 1s 2ms/step - loss: 2.9793e-05 - accuracy: 1.0000 - val_loss: 0.1372 - val_accuracy: 0.9796\n",
      "Epoch 62/100\n",
      "500/500 [==============================] - 1s 2ms/step - loss: 2.5510e-05 - accuracy: 1.0000 - val_loss: 0.1394 - val_accuracy: 0.9795\n",
      "Epoch 63/100\n",
      "500/500 [==============================] - 1s 2ms/step - loss: 2.1100e-05 - accuracy: 1.0000 - val_loss: 0.1398 - val_accuracy: 0.9800\n",
      "Epoch 64/100\n",
      "500/500 [==============================] - 1s 2ms/step - loss: 1.7877e-05 - accuracy: 1.0000 - val_loss: 0.1408 - val_accuracy: 0.9804\n",
      "Epoch 65/100\n",
      "500/500 [==============================] - 1s 2ms/step - loss: 1.4694e-05 - accuracy: 1.0000 - val_loss: 0.1428 - val_accuracy: 0.9803\n",
      "Epoch 66/100\n",
      "500/500 [==============================] - 1s 2ms/step - loss: 1.2261e-05 - accuracy: 1.0000 - val_loss: 0.1441 - val_accuracy: 0.9805\n",
      "Epoch 67/100\n",
      "500/500 [==============================] - 1s 2ms/step - loss: 9.9506e-06 - accuracy: 1.0000 - val_loss: 0.1450 - val_accuracy: 0.9801\n",
      "Epoch 68/100\n",
      "500/500 [==============================] - 1s 2ms/step - loss: 8.5050e-06 - accuracy: 1.0000 - val_loss: 0.1468 - val_accuracy: 0.9801\n",
      "Epoch 69/100\n",
      "500/500 [==============================] - 1s 3ms/step - loss: 7.7224e-06 - accuracy: 1.0000 - val_loss: 0.1482 - val_accuracy: 0.9803\n",
      "Epoch 70/100\n",
      "500/500 [==============================] - 2s 3ms/step - loss: 5.8400e-06 - accuracy: 1.0000 - val_loss: 0.1509 - val_accuracy: 0.9805\n",
      "Epoch 71/100\n",
      "500/500 [==============================] - 1s 3ms/step - loss: 4.5904e-06 - accuracy: 1.0000 - val_loss: 0.1527 - val_accuracy: 0.9803\n",
      "Epoch 72/100\n",
      "500/500 [==============================] - 1s 3ms/step - loss: 0.0249 - accuracy: 0.9942 - val_loss: 0.1859 - val_accuracy: 0.9727\n",
      "Epoch 73/100\n",
      "500/500 [==============================] - 1s 2ms/step - loss: 0.0112 - accuracy: 0.9965 - val_loss: 0.1623 - val_accuracy: 0.9770\n",
      "Epoch 74/100\n",
      "500/500 [==============================] - 1s 2ms/step - loss: 0.0023 - accuracy: 0.9993 - val_loss: 0.1692 - val_accuracy: 0.9763\n",
      "Epoch 75/100\n",
      "500/500 [==============================] - 1s 3ms/step - loss: 0.0023 - accuracy: 0.9992 - val_loss: 0.1571 - val_accuracy: 0.9768\n",
      "Epoch 76/100\n",
      "500/500 [==============================] - 1s 2ms/step - loss: 7.9966e-04 - accuracy: 0.9998 - val_loss: 0.1655 - val_accuracy: 0.9778\n",
      "Epoch 77/100\n",
      "500/500 [==============================] - 1s 2ms/step - loss: 0.0087 - accuracy: 0.9974 - val_loss: 0.1613 - val_accuracy: 0.9784\n",
      "Epoch 78/100\n",
      "500/500 [==============================] - 1s 2ms/step - loss: 0.0028 - accuracy: 0.9992 - val_loss: 0.1618 - val_accuracy: 0.9760\n",
      "Epoch 79/100\n",
      "500/500 [==============================] - 1s 2ms/step - loss: 0.0039 - accuracy: 0.9986 - val_loss: 0.1811 - val_accuracy: 0.9757\n",
      "Epoch 80/100\n",
      "500/500 [==============================] - 1s 2ms/step - loss: 0.0061 - accuracy: 0.9982 - val_loss: 0.1498 - val_accuracy: 0.9780\n",
      "Epoch 81/100\n",
      "500/500 [==============================] - 1s 2ms/step - loss: 0.0014 - accuracy: 0.9995 - val_loss: 0.1582 - val_accuracy: 0.9786\n",
      "Epoch 82/100\n",
      "500/500 [==============================] - 1s 3ms/step - loss: 1.7379e-04 - accuracy: 1.0000 - val_loss: 0.1462 - val_accuracy: 0.9797\n",
      "Epoch 83/100\n",
      "500/500 [==============================] - 1s 3ms/step - loss: 5.5813e-05 - accuracy: 1.0000 - val_loss: 0.1488 - val_accuracy: 0.9795\n",
      "Epoch 84/100\n",
      "500/500 [==============================] - 1s 3ms/step - loss: 2.8246e-05 - accuracy: 1.0000 - val_loss: 0.1490 - val_accuracy: 0.9794\n",
      "Epoch 85/100\n",
      "500/500 [==============================] - 1s 3ms/step - loss: 1.9258e-05 - accuracy: 1.0000 - val_loss: 0.1497 - val_accuracy: 0.9795\n",
      "Epoch 86/100\n",
      "500/500 [==============================] - 1s 2ms/step - loss: 1.5740e-05 - accuracy: 1.0000 - val_loss: 0.1500 - val_accuracy: 0.9795\n",
      "Epoch 87/100\n",
      "500/500 [==============================] - 1s 2ms/step - loss: 1.3389e-05 - accuracy: 1.0000 - val_loss: 0.1504 - val_accuracy: 0.9796\n",
      "Epoch 88/100\n",
      "500/500 [==============================] - 1s 2ms/step - loss: 1.1416e-05 - accuracy: 1.0000 - val_loss: 0.1514 - val_accuracy: 0.9796\n",
      "Epoch 89/100\n",
      "500/500 [==============================] - 1s 2ms/step - loss: 9.8263e-06 - accuracy: 1.0000 - val_loss: 0.1526 - val_accuracy: 0.9797\n",
      "Epoch 90/100\n",
      "500/500 [==============================] - 1s 3ms/step - loss: 8.4171e-06 - accuracy: 1.0000 - val_loss: 0.1530 - val_accuracy: 0.9794\n",
      "Epoch 91/100\n",
      "500/500 [==============================] - 1s 2ms/step - loss: 7.3034e-06 - accuracy: 1.0000 - val_loss: 0.1542 - val_accuracy: 0.9797\n",
      "Epoch 92/100\n",
      "500/500 [==============================] - 1s 3ms/step - loss: 6.1425e-06 - accuracy: 1.0000 - val_loss: 0.1557 - val_accuracy: 0.9795\n",
      "Epoch 93/100\n",
      "500/500 [==============================] - 1s 3ms/step - loss: 5.3426e-06 - accuracy: 1.0000 - val_loss: 0.1559 - val_accuracy: 0.9799\n",
      "Epoch 94/100\n",
      "500/500 [==============================] - 2s 3ms/step - loss: 4.4999e-06 - accuracy: 1.0000 - val_loss: 0.1568 - val_accuracy: 0.9799\n",
      "Epoch 95/100\n",
      "500/500 [==============================] - 2s 3ms/step - loss: 3.8061e-06 - accuracy: 1.0000 - val_loss: 0.1585 - val_accuracy: 0.9799\n",
      "Epoch 96/100\n",
      "500/500 [==============================] - 2s 3ms/step - loss: 3.2138e-06 - accuracy: 1.0000 - val_loss: 0.1596 - val_accuracy: 0.9799\n",
      "Epoch 97/100\n",
      "500/500 [==============================] - 1s 3ms/step - loss: 2.6916e-06 - accuracy: 1.0000 - val_loss: 0.1609 - val_accuracy: 0.9799\n",
      "Epoch 98/100\n",
      "500/500 [==============================] - 1s 3ms/step - loss: 2.2489e-06 - accuracy: 1.0000 - val_loss: 0.1627 - val_accuracy: 0.9801\n",
      "Epoch 99/100\n",
      "500/500 [==============================] - 1s 3ms/step - loss: 1.8672e-06 - accuracy: 1.0000 - val_loss: 0.1640 - val_accuracy: 0.9802\n",
      "Epoch 100/100\n",
      "500/500 [==============================] - 1s 3ms/step - loss: 1.5401e-06 - accuracy: 1.0000 - val_loss: 0.1653 - val_accuracy: 0.9803\n"
     ]
    }
   ],
   "source": [
    "from tensorflow import keras\n",
    "\n",
    "print(tf.__version__)\n",
    "print(keras.__version__)\n",
    "\n",
    "from tensorflow.keras.models import Sequential\n",
    "from tensorflow.keras.layers import Dense, Dropout\n",
    "from tensorflow.keras.optimizers import RMSprop\n",
    "\n",
    "batch_size = 100\n",
    "num_classes = 10\n",
    "epochs = 100\n",
    "\n",
    "print(X_train.shape[0], 'train samples')\n",
    "print(X_test.shape[0], 'test samples')\n",
    "\n",
    "## convert class vectors to binary class matrices\n",
    "y_train_c = keras.utils.to_categorical(y_train, num_classes)\n",
    "y_val_c = keras.utils.to_categorical(y_val, num_classes)\n",
    "y_test_c = keras.utils.to_categorical(y_test, num_classes)\n",
    "\n",
    "model = Sequential()\n",
    "model.add(Dense(100, activation='relu', input_shape=(784,)))\n",
    "model.add(Dense( 50, activation='relu'))\n",
    "model.add(Dense(num_classes, activation='softmax'))\n",
    "\n",
    "model.summary()\n",
    "\n",
    "model.compile(loss='categorical_crossentropy',\n",
    "              optimizer='adam',\n",
    "              metrics=['accuracy'])\n",
    "\n",
    "history = model.fit(X_train, y_train_c,\n",
    "                    batch_size=batch_size,\n",
    "                    epochs=epochs,\n",
    "                    verbose=1,\n",
    "                    validation_data=(X_val, y_val_c))"
   ]
  },
  {
   "cell_type": "code",
   "execution_count": 54,
   "metadata": {
    "scrolled": true
   },
   "outputs": [
    {
     "name": "stdout",
     "output_type": "stream",
     "text": [
      "Test loss: 0.20591486990451813\n",
      "Test accuracy: 0.9778000116348267\n"
     ]
    }
   ],
   "source": [
    "score = model.evaluate(X_test, y_test_c, verbose=0)\n",
    "print('Test loss:', score[0])\n",
    "print('Test accuracy:', score[1])"
   ]
  },
  {
   "cell_type": "markdown",
   "metadata": {},
   "source": [
    "You should see the training going through the epochs and in the end the trained network is evaluated on the test set. \n",
    "It shoud reach at least a classification accurary of 97% on the test set."
   ]
  },
  {
   "cell_type": "markdown",
   "metadata": {
    "scrolled": true
   },
   "source": [
    "If you are interested, there is a special [intro to Keras for engineers](https://keras.io/getting_started/intro_to_keras_for_engineers/)"
   ]
  },
  {
   "cell_type": "markdown",
   "metadata": {},
   "source": [
    "### Exercise 1\n",
    "\n",
    "Create a visualization of the model architecture (graph) of the keras model composed above using [`plot_model`](https://keras.io/api/utils/model_plotting_utils/). You will probably need to install `pydot`:\n",
    "\n",
    "`conda install pydot`\n",
    "\n",
    "As you can see [here](https://keras.io/guides/training_with_built_in_methods/#passing-data-to-multiinput-multioutput-models), ANN architectures can be more complex, like e.g. [GoogLeNet](https://miro.medium.com/max/2700/1*ZFPOSAted10TPd3hBQU8iQ.png)."
   ]
  },
  {
   "cell_type": "code",
   "execution_count": 7,
   "metadata": {},
   "outputs": [
    {
     "name": "stdout",
     "output_type": "stream",
     "text": [
      "Model: \"sequential\"\n",
      "_________________________________________________________________\n",
      "Layer (type)                 Output Shape              Param #   \n",
      "=================================================================\n",
      "dense (Dense)                (None, 100)               78500     \n",
      "_________________________________________________________________\n",
      "dense_1 (Dense)              (None, 50)                5050      \n",
      "_________________________________________________________________\n",
      "dense_2 (Dense)              (None, 10)                510       \n",
      "=================================================================\n",
      "Total params: 84,060\n",
      "Trainable params: 84,060\n",
      "Non-trainable params: 0\n",
      "_________________________________________________________________\n",
      "<tensorflow.python.keras.callbacks.History object at 0x00000258ECACA940>\n"
     ]
    }
   ],
   "source": [
    "## print again the model summary (for easiy comparison with the following visualization)\n",
    "model.summary()\n",
    "## create a visualization of the model architecture (graph)\n",
    "tf.keras.utils.plot_model(model,to_file='beispiel.png',show_shapes=True)\n",
    "print(history)"
   ]
  },
  {
   "cell_type": "markdown",
   "metadata": {},
   "source": [
    "The methode [`fit`](https://keras.io/api/models/model_training_apis/#fit-method) from Keras yields a `history` objekt, which can be used to plot the loss and acc determined during training. This can be done quite selectively (see e.g. [here](https://www.kaggle.com/danbrice/keras-plot-history-full-report-and-grid-search)) or with just a few lines using [`pandas`](https://nbviewer.jupyter.org/github/ageron/handson-ml2/blob/92b5f83f8a/10_neural_nets_with_keras.ipynb#Building-an-Image-Classifier).\n",
    "\n",
    "It is also possible to use [TensorBoard](https://www.tensorflow.org/tensorboard) for visualization but this can be more challanging to [get running](https://nbviewer.jupyter.org/github/ageron/handson-ml2/blob/92b5f83f8a/10_neural_nets_with_keras.ipynb#TensorBoard).\n",
    "\n",
    "### Exercise 2\n",
    "\n",
    "Plot the loss and accuracy of the train and the val set and save the plot as SVG"
   ]
  },
  {
   "cell_type": "code",
   "execution_count": 67,
   "metadata": {},
   "outputs": [
    {
     "data": {
      "image/png": "[encoded data removed]",
      "text/plain": [
       "<Figure size 432x288 with 1 Axes>"
      ]
     },
     "metadata": {
      "needs_background": "light"
     },
     "output_type": "display_data"
    },
    {
     "data": {
      "text/plain": [
       "<Figure size 432x288 with 0 Axes>"
      ]
     },
     "metadata": {},
     "output_type": "display_data"
    }
   ],
   "source": [
    "#plot loss   and val set\n",
    "\n",
    "import pandas as pd\n",
    "import matplotlib.pyplot as plt\n",
    "history_dict = history.history\n",
    "history_dict.keys()\n",
    "\n",
    "plt.subplot(212)\n",
    "plt.plot(history.history['loss'])\n",
    "plt.plot(history.history['val_loss'])\n",
    "plt.title('Model Loss')\n",
    "plt.ylabel('Loss')\n",
    "plt.xlabel('Epoch')\n",
    "plt.legend(['Training', 'Validation'], loc='upper right')\n",
    "\n",
    "plt.tight_layout()\n",
    "plt.show()\n",
    "plt.savefig(\"loss.svg\") \n",
    "\n"
   ]
  },
  {
   "cell_type": "code",
   "execution_count": 68,
   "metadata": {},
   "outputs": [
    {
     "data": {
      "image/png": "[encoded data removed]",
      "text/plain": [
       "<Figure size 432x288 with 1 Axes>"
      ]
     },
     "metadata": {
      "needs_background": "light"
     },
     "output_type": "display_data"
    },
    {
     "data": {
      "text/plain": [
       "<Figure size 432x288 with 0 Axes>"
      ]
     },
     "metadata": {},
     "output_type": "display_data"
    }
   ],
   "source": [
    "history_dict.keys()\n",
    "plt.subplot(212)\n",
    "plt.plot(history.history['accuracy'])\n",
    "plt.plot(history.history['val_accuracy'])\n",
    "plt.title('Model accuracy')\n",
    "plt.ylabel('accuracy')\n",
    "plt.xlabel('Epoch')\n",
    "plt.legend(['Training', 'Validation'], loc='upper right')\n",
    "\n",
    "plt.tight_layout()\n",
    "plt.show()\n",
    "plt.savefig(\"accuracy.svg\") "
   ]
  },
  {
   "cell_type": "markdown",
   "metadata": {},
   "source": [
    "### Question 1\n",
    "\n",
    "1. What could be the reason for peaks in the loss curves?\n",
    "2. How could those peaks be avoided?"
   ]
  },
  {
   "cell_type": "markdown",
   "metadata": {},
   "source": [
    "### Answers\n",
    "\n",
    "1. the spikes are a consequence of the mini-batch gradient descent in Adam (batch_size = 100). Some mini-batches \"happen\" to have unfortunate dates for optimization.\n",
    "2. The spikes are an unavoidable consequence of Mini-Batch Gradient Descent in Adam . we should use another optimizer (SGD) "
   ]
  },
  {
   "cell_type": "markdown",
   "metadata": {},
   "source": [
    "### Optional 1\n",
    "\n",
    "If you have an idea how to avoid/reduce such peaks, try it out and plot the resulting curves again!"
   ]
  },
  {
   "cell_type": "markdown",
   "metadata": {},
   "source": [
    "### Exercise 3\n",
    "\n",
    "Now plot the loss and accuracy of the train and the test set (and save the plot as SVG) of your optimized model (from the last exercise of the last notebook), that should reach at least 98% accuracy."
   ]
  },
  {
   "cell_type": "code",
   "execution_count": 61,
   "metadata": {},
   "outputs": [
    {
     "name": "stdout",
     "output_type": "stream",
     "text": [
      "2.3.0\n",
      "2.4.0\n",
      "50000 train samples\n",
      "10000 test samples\n",
      "Model: \"sequential_6\"\n",
      "_________________________________________________________________\n",
      "Layer (type)                 Output Shape              Param #   \n",
      "=================================================================\n",
      "dense_18 (Dense)             (None, 250)               196250    \n",
      "_________________________________________________________________\n",
      "dense_19 (Dense)             (None, 150)               37650     \n",
      "_________________________________________________________________\n",
      "dense_20 (Dense)             (None, 10)                1510      \n",
      "=================================================================\n",
      "Total params: 235,410\n",
      "Trainable params: 235,410\n",
      "Non-trainable params: 0\n",
      "_________________________________________________________________\n",
      "Epoch 1/200\n",
      "500/500 [==============================] - 2s 4ms/step - loss: 0.2720 - accuracy: 0.9196 - val_loss: 0.1473 - val_accuracy: 0.9572\n",
      "Epoch 2/200\n",
      "500/500 [==============================] - 2s 4ms/step - loss: 0.1035 - accuracy: 0.9690 - val_loss: 0.1149 - val_accuracy: 0.9664\n",
      "Epoch 3/200\n",
      "500/500 [==============================] - 2s 4ms/step - loss: 0.0670 - accuracy: 0.9791 - val_loss: 0.1079 - val_accuracy: 0.9664\n",
      "Epoch 4/200\n",
      "500/500 [==============================] - 2s 4ms/step - loss: 0.0471 - accuracy: 0.9853 - val_loss: 0.0925 - val_accuracy: 0.9724\n",
      "Epoch 5/200\n",
      "500/500 [==============================] - 2s 5ms/step - loss: 0.0342 - accuracy: 0.9893 - val_loss: 0.0914 - val_accuracy: 0.9743\n",
      "Epoch 6/200\n",
      "500/500 [==============================] - 2s 4ms/step - loss: 0.0286 - accuracy: 0.9908 - val_loss: 0.0914 - val_accuracy: 0.9738\n",
      "Epoch 7/200\n",
      "500/500 [==============================] - 2s 3ms/step - loss: 0.0212 - accuracy: 0.9930 - val_loss: 0.0972 - val_accuracy: 0.9745\n",
      "Epoch 8/200\n",
      "500/500 [==============================] - 2s 3ms/step - loss: 0.0171 - accuracy: 0.9945 - val_loss: 0.1106 - val_accuracy: 0.9724\n",
      "Epoch 9/200\n",
      "500/500 [==============================] - 2s 3ms/step - loss: 0.0165 - accuracy: 0.9947 - val_loss: 0.0971 - val_accuracy: 0.9749\n",
      "Epoch 10/200\n",
      "500/500 [==============================] - 2s 3ms/step - loss: 0.0142 - accuracy: 0.9954 - val_loss: 0.0912 - val_accuracy: 0.9772\n",
      "Epoch 11/200\n",
      "500/500 [==============================] - 2s 4ms/step - loss: 0.0103 - accuracy: 0.9965 - val_loss: 0.1125 - val_accuracy: 0.9744\n",
      "Epoch 12/200\n",
      "500/500 [==============================] - 2s 4ms/step - loss: 0.0132 - accuracy: 0.9959 - val_loss: 0.0965 - val_accuracy: 0.9756\n",
      "Epoch 13/200\n",
      "500/500 [==============================] - 2s 4ms/step - loss: 0.0098 - accuracy: 0.9967 - val_loss: 0.0992 - val_accuracy: 0.9770\n",
      "Epoch 14/200\n",
      "500/500 [==============================] - 2s 3ms/step - loss: 0.0095 - accuracy: 0.9967 - val_loss: 0.1034 - val_accuracy: 0.9769\n",
      "Epoch 15/200\n",
      "500/500 [==============================] - 2s 3ms/step - loss: 0.0110 - accuracy: 0.9961 - val_loss: 0.1230 - val_accuracy: 0.9747\n",
      "Epoch 16/200\n",
      "500/500 [==============================] - 2s 3ms/step - loss: 0.0097 - accuracy: 0.9966 - val_loss: 0.1206 - val_accuracy: 0.9761\n",
      "Epoch 17/200\n",
      "500/500 [==============================] - 2s 3ms/step - loss: 0.0070 - accuracy: 0.9978 - val_loss: 0.1479 - val_accuracy: 0.9699\n",
      "Epoch 18/200\n",
      "500/500 [==============================] - 2s 3ms/step - loss: 0.0087 - accuracy: 0.9971 - val_loss: 0.1267 - val_accuracy: 0.9760\n",
      "Epoch 19/200\n",
      "500/500 [==============================] - 2s 4ms/step - loss: 0.0077 - accuracy: 0.9975 - val_loss: 0.1203 - val_accuracy: 0.9761\n",
      "Epoch 20/200\n",
      "500/500 [==============================] - 2s 4ms/step - loss: 0.0064 - accuracy: 0.9979 - val_loss: 0.1119 - val_accuracy: 0.9780\n",
      "Epoch 21/200\n",
      "500/500 [==============================] - 2s 4ms/step - loss: 0.0052 - accuracy: 0.9983 - val_loss: 0.1162 - val_accuracy: 0.9775\n",
      "Epoch 22/200\n",
      "500/500 [==============================] - 2s 4ms/step - loss: 0.0067 - accuracy: 0.9976 - val_loss: 0.1590 - val_accuracy: 0.9706\n",
      "Epoch 23/200\n",
      "500/500 [==============================] - 2s 4ms/step - loss: 0.0073 - accuracy: 0.9976 - val_loss: 0.1266 - val_accuracy: 0.9766\n",
      "Epoch 24/200\n",
      "500/500 [==============================] - 2s 4ms/step - loss: 0.0027 - accuracy: 0.9991 - val_loss: 0.1222 - val_accuracy: 0.9777\n",
      "Epoch 25/200\n",
      "500/500 [==============================] - 2s 4ms/step - loss: 0.0080 - accuracy: 0.9972 - val_loss: 0.1331 - val_accuracy: 0.9779\n",
      "Epoch 26/200\n",
      "500/500 [==============================] - 2s 4ms/step - loss: 0.0111 - accuracy: 0.9965 - val_loss: 0.1332 - val_accuracy: 0.9774\n",
      "Epoch 27/200\n",
      "500/500 [==============================] - 2s 4ms/step - loss: 0.0031 - accuracy: 0.9990 - val_loss: 0.1310 - val_accuracy: 0.9786\n",
      "Epoch 28/200\n",
      "500/500 [==============================] - 2s 4ms/step - loss: 0.0040 - accuracy: 0.9987 - val_loss: 0.1540 - val_accuracy: 0.9752\n",
      "Epoch 29/200\n",
      "500/500 [==============================] - 2s 4ms/step - loss: 0.0057 - accuracy: 0.9979 - val_loss: 0.1790 - val_accuracy: 0.9714\n",
      "Epoch 30/200\n",
      "500/500 [==============================] - 2s 4ms/step - loss: 0.0073 - accuracy: 0.9977 - val_loss: 0.1493 - val_accuracy: 0.9771\n",
      "Epoch 31/200\n",
      "500/500 [==============================] - 2s 4ms/step - loss: 0.0014 - accuracy: 0.9995 - val_loss: 0.1386 - val_accuracy: 0.9783\n",
      "Epoch 32/200\n",
      "500/500 [==============================] - 2s 4ms/step - loss: 0.0075 - accuracy: 0.9975 - val_loss: 0.1613 - val_accuracy: 0.9784\n",
      "Epoch 33/200\n",
      "500/500 [==============================] - 2s 4ms/step - loss: 0.0047 - accuracy: 0.9986 - val_loss: 0.1500 - val_accuracy: 0.9766\n",
      "Epoch 34/200\n",
      "500/500 [==============================] - 2s 4ms/step - loss: 0.0039 - accuracy: 0.9989 - val_loss: 0.1648 - val_accuracy: 0.9735\n",
      "Epoch 35/200\n",
      "500/500 [==============================] - 2s 5ms/step - loss: 0.0051 - accuracy: 0.9982 - val_loss: 0.1592 - val_accuracy: 0.9771\n",
      "Epoch 36/200\n",
      "500/500 [==============================] - 2s 5ms/step - loss: 0.0063 - accuracy: 0.9981 - val_loss: 0.1592 - val_accuracy: 0.9773\n",
      "Epoch 37/200\n",
      "500/500 [==============================] - 3s 6ms/step - loss: 0.0031 - accuracy: 0.9989 - val_loss: 0.1731 - val_accuracy: 0.9756\n",
      "Epoch 38/200\n",
      "500/500 [==============================] - 3s 6ms/step - loss: 0.0049 - accuracy: 0.9985 - val_loss: 0.1567 - val_accuracy: 0.9770\n",
      "Epoch 39/200\n",
      "500/500 [==============================] - 3s 5ms/step - loss: 0.0047 - accuracy: 0.9984 - val_loss: 0.1736 - val_accuracy: 0.9764\n",
      "Epoch 40/200\n",
      "500/500 [==============================] - 3s 5ms/step - loss: 0.0038 - accuracy: 0.9988 - val_loss: 0.1595 - val_accuracy: 0.9784\n",
      "Epoch 41/200\n",
      "500/500 [==============================] - 3s 5ms/step - loss: 0.0016 - accuracy: 0.9995 - val_loss: 0.1502 - val_accuracy: 0.9801\n",
      "Epoch 42/200\n",
      "500/500 [==============================] - 3s 6ms/step - loss: 0.0046 - accuracy: 0.9987 - val_loss: 0.1719 - val_accuracy: 0.9767\n",
      "Epoch 43/200\n",
      "500/500 [==============================] - 3s 5ms/step - loss: 0.0068 - accuracy: 0.9979 - val_loss: 0.1685 - val_accuracy: 0.9773\n",
      "Epoch 44/200\n",
      "500/500 [==============================] - 2s 5ms/step - loss: 0.0053 - accuracy: 0.9982 - val_loss: 0.1884 - val_accuracy: 0.9753\n",
      "Epoch 45/200\n",
      "500/500 [==============================] - 2s 5ms/step - loss: 0.0033 - accuracy: 0.9989 - val_loss: 0.1524 - val_accuracy: 0.9783\n",
      "Epoch 46/200\n",
      "500/500 [==============================] - 2s 5ms/step - loss: 0.0015 - accuracy: 0.9995 - val_loss: 0.1487 - val_accuracy: 0.9794\n",
      "Epoch 47/200\n",
      "500/500 [==============================] - 2s 5ms/step - loss: 0.0038 - accuracy: 0.9991 - val_loss: 0.1775 - val_accuracy: 0.9756\n",
      "Epoch 48/200\n",
      "500/500 [==============================] - 2s 5ms/step - loss: 0.0090 - accuracy: 0.9973 - val_loss: 0.1641 - val_accuracy: 0.9777\n",
      "Epoch 49/200\n",
      "500/500 [==============================] - 2s 5ms/step - loss: 0.0036 - accuracy: 0.9991 - val_loss: 0.1400 - val_accuracy: 0.9800\n",
      "Epoch 50/200\n",
      "500/500 [==============================] - 2s 5ms/step - loss: 5.8452e-04 - accuracy: 0.9998 - val_loss: 0.1372 - val_accuracy: 0.9800\n",
      "Epoch 51/200\n",
      "500/500 [==============================] - 2s 5ms/step - loss: 1.0610e-04 - accuracy: 1.0000 - val_loss: 0.1386 - val_accuracy: 0.9806\n",
      "Epoch 52/200\n",
      "500/500 [==============================] - 2s 4ms/step - loss: 1.7944e-05 - accuracy: 1.0000 - val_loss: 0.1403 - val_accuracy: 0.9807\n",
      "Epoch 53/200\n",
      "500/500 [==============================] - 2s 4ms/step - loss: 1.1781e-05 - accuracy: 1.0000 - val_loss: 0.1413 - val_accuracy: 0.9807\n",
      "Epoch 54/200\n",
      "500/500 [==============================] - 2s 4ms/step - loss: 9.3617e-06 - accuracy: 1.0000 - val_loss: 0.1422 - val_accuracy: 0.9810\n",
      "Epoch 55/200\n",
      "500/500 [==============================] - 2s 5ms/step - loss: 7.5391e-06 - accuracy: 1.0000 - val_loss: 0.1432 - val_accuracy: 0.9810\n",
      "Epoch 56/200\n",
      "500/500 [==============================] - 2s 5ms/step - loss: 6.1330e-06 - accuracy: 1.0000 - val_loss: 0.1440 - val_accuracy: 0.9813\n",
      "Epoch 57/200\n",
      "500/500 [==============================] - 2s 5ms/step - loss: 5.0201e-06 - accuracy: 1.0000 - val_loss: 0.1451 - val_accuracy: 0.9814\n",
      "Epoch 58/200\n",
      "500/500 [==============================] - 3s 5ms/step - loss: 4.1129e-06 - accuracy: 1.0000 - val_loss: 0.1463 - val_accuracy: 0.9814\n",
      "Epoch 59/200\n",
      "500/500 [==============================] - 2s 5ms/step - loss: 3.3359e-06 - accuracy: 1.0000 - val_loss: 0.1474 - val_accuracy: 0.9815\n",
      "Epoch 60/200\n",
      "500/500 [==============================] - 2s 4ms/step - loss: 2.7293e-06 - accuracy: 1.0000 - val_loss: 0.1487 - val_accuracy: 0.9817\n",
      "Epoch 61/200\n",
      "500/500 [==============================] - 2s 4ms/step - loss: 2.2129e-06 - accuracy: 1.0000 - val_loss: 0.1499 - val_accuracy: 0.9816\n",
      "Epoch 62/200\n",
      "500/500 [==============================] - 2s 5ms/step - loss: 1.7896e-06 - accuracy: 1.0000 - val_loss: 0.1515 - val_accuracy: 0.9818\n",
      "Epoch 63/200\n",
      "500/500 [==============================] - 2s 5ms/step - loss: 1.4577e-06 - accuracy: 1.0000 - val_loss: 0.1531 - val_accuracy: 0.9817\n",
      "Epoch 64/200\n",
      "500/500 [==============================] - 2s 5ms/step - loss: 1.1589e-06 - accuracy: 1.0000 - val_loss: 0.1548 - val_accuracy: 0.9816\n",
      "Epoch 65/200\n",
      "500/500 [==============================] - 2s 4ms/step - loss: 9.2222e-07 - accuracy: 1.0000 - val_loss: 0.1568 - val_accuracy: 0.9816\n",
      "Epoch 66/200\n",
      "500/500 [==============================] - 2s 4ms/step - loss: 7.3445e-07 - accuracy: 1.0000 - val_loss: 0.1586 - val_accuracy: 0.9816\n",
      "Epoch 67/200\n",
      "500/500 [==============================] - 2s 4ms/step - loss: 5.8321e-07 - accuracy: 1.0000 - val_loss: 0.1608 - val_accuracy: 0.9816\n",
      "Epoch 68/200\n",
      "500/500 [==============================] - 2s 4ms/step - loss: 4.5846e-07 - accuracy: 1.0000 - val_loss: 0.1631 - val_accuracy: 0.9814\n",
      "Epoch 69/200\n",
      "500/500 [==============================] - 2s 5ms/step - loss: 3.6280e-07 - accuracy: 1.0000 - val_loss: 0.1653 - val_accuracy: 0.9812\n",
      "Epoch 70/200\n",
      "500/500 [==============================] - 2s 5ms/step - loss: 2.8189e-07 - accuracy: 1.0000 - val_loss: 0.1671 - val_accuracy: 0.9811\n",
      "Epoch 71/200\n",
      "500/500 [==============================] - 2s 5ms/step - loss: 2.2277e-07 - accuracy: 1.0000 - val_loss: 0.1694 - val_accuracy: 0.9812\n",
      "Epoch 72/200\n",
      "500/500 [==============================] - 2s 4ms/step - loss: 1.7616e-07 - accuracy: 1.0000 - val_loss: 0.1717 - val_accuracy: 0.9812\n",
      "Epoch 73/200\n",
      "500/500 [==============================] - 2s 4ms/step - loss: 1.3925e-07 - accuracy: 1.0000 - val_loss: 0.1740 - val_accuracy: 0.9814\n",
      "Epoch 74/200\n",
      "500/500 [==============================] - 2s 4ms/step - loss: 1.0954e-07 - accuracy: 1.0000 - val_loss: 0.1759 - val_accuracy: 0.9815\n",
      "Epoch 75/200\n",
      "500/500 [==============================] - 2s 4ms/step - loss: 8.6765e-08 - accuracy: 1.0000 - val_loss: 0.1782 - val_accuracy: 0.9813\n",
      "Epoch 76/200\n",
      "500/500 [==============================] - 2s 5ms/step - loss: 6.8600e-08 - accuracy: 1.0000 - val_loss: 0.1807 - val_accuracy: 0.9816\n",
      "Epoch 77/200\n",
      "500/500 [==============================] - 2s 5ms/step - loss: 5.4855e-08 - accuracy: 1.0000 - val_loss: 0.1827 - val_accuracy: 0.9815\n",
      "Epoch 78/200\n",
      "500/500 [==============================] - 2s 5ms/step - loss: 4.3502e-08 - accuracy: 1.0000 - val_loss: 0.1853 - val_accuracy: 0.9816\n",
      "Epoch 79/200\n",
      "500/500 [==============================] - 2s 4ms/step - loss: 3.4587e-08 - accuracy: 1.0000 - val_loss: 0.1871 - val_accuracy: 0.9816\n",
      "Epoch 80/200\n",
      "500/500 [==============================] - 2s 4ms/step - loss: 2.7575e-08 - accuracy: 1.0000 - val_loss: 0.1893 - val_accuracy: 0.9815\n",
      "Epoch 81/200\n",
      "500/500 [==============================] - 2s 4ms/step - loss: 2.2445e-08 - accuracy: 1.0000 - val_loss: 0.1914 - val_accuracy: 0.9815\n",
      "Epoch 82/200\n",
      "500/500 [==============================] - 2s 4ms/step - loss: 1.8036e-08 - accuracy: 1.0000 - val_loss: 0.1935 - val_accuracy: 0.9818\n",
      "Epoch 83/200\n",
      "500/500 [==============================] - 2s 5ms/step - loss: 1.4970e-08 - accuracy: 1.0000 - val_loss: 0.1954 - val_accuracy: 0.9817\n",
      "Epoch 84/200\n",
      "500/500 [==============================] - 2s 5ms/step - loss: 1.2171e-08 - accuracy: 1.0000 - val_loss: 0.1973 - val_accuracy: 0.9815\n",
      "Epoch 85/200\n",
      "500/500 [==============================] - 2s 5ms/step - loss: 1.0066e-08 - accuracy: 1.0000 - val_loss: 0.1994 - val_accuracy: 0.9816\n",
      "Epoch 86/200\n",
      "500/500 [==============================] - 2s 4ms/step - loss: 8.2588e-09 - accuracy: 1.0000 - val_loss: 0.2002 - val_accuracy: 0.9815\n",
      "Epoch 87/200\n",
      "500/500 [==============================] - 2s 4ms/step - loss: 6.9857e-09 - accuracy: 1.0000 - val_loss: 0.2018 - val_accuracy: 0.9816\n",
      "Epoch 88/200\n",
      "500/500 [==============================] - 2s 4ms/step - loss: 5.8651e-09 - accuracy: 1.0000 - val_loss: 0.2038 - val_accuracy: 0.9817\n",
      "Epoch 89/200\n",
      "500/500 [==============================] - 2s 4ms/step - loss: 4.9901e-09 - accuracy: 1.0000 - val_loss: 0.2047 - val_accuracy: 0.9818\n",
      "Epoch 90/200\n",
      "500/500 [==============================] - 2s 5ms/step - loss: 4.2844e-09 - accuracy: 1.0000 - val_loss: 0.2065 - val_accuracy: 0.9818\n",
      "Epoch 91/200\n",
      "500/500 [==============================] - 2s 5ms/step - loss: 3.6716e-09 - accuracy: 1.0000 - val_loss: 0.2072 - val_accuracy: 0.9817\n",
      "Epoch 92/200\n",
      "500/500 [==============================] - 2s 5ms/step - loss: 3.2449e-09 - accuracy: 1.0000 - val_loss: 0.2087 - val_accuracy: 0.9817\n",
      "Epoch 93/200\n",
      "500/500 [==============================] - 2s 4ms/step - loss: 2.8205e-09 - accuracy: 1.0000 - val_loss: 0.2096 - val_accuracy: 0.9820\n",
      "Epoch 94/200\n",
      "500/500 [==============================] - 2s 4ms/step - loss: 2.5105e-09 - accuracy: 1.0000 - val_loss: 0.2103 - val_accuracy: 0.9821\n",
      "Epoch 95/200\n",
      "500/500 [==============================] - 2s 5ms/step - loss: 2.2006e-09 - accuracy: 1.0000 - val_loss: 0.2110 - val_accuracy: 0.9823\n",
      "Epoch 96/200\n",
      "500/500 [==============================] - 3s 5ms/step - loss: 1.9956e-09 - accuracy: 1.0000 - val_loss: 0.2120 - val_accuracy: 0.9821\n",
      "Epoch 97/200\n",
      "500/500 [==============================] - 2s 5ms/step - loss: 1.7762e-09 - accuracy: 1.0000 - val_loss: 0.2125 - val_accuracy: 0.9822\n",
      "Epoch 98/200\n",
      "500/500 [==============================] - 2s 5ms/step - loss: 1.6046e-09 - accuracy: 1.0000 - val_loss: 0.2130 - val_accuracy: 0.9822\n",
      "Epoch 99/200\n",
      "500/500 [==============================] - 2s 5ms/step - loss: 1.4782e-09 - accuracy: 1.0000 - val_loss: 0.2137 - val_accuracy: 0.9822\n",
      "Epoch 100/200\n",
      "500/500 [==============================] - 2s 4ms/step - loss: 1.3351e-09 - accuracy: 1.0000 - val_loss: 0.2138 - val_accuracy: 0.9820\n",
      "Epoch 101/200\n",
      "500/500 [==============================] - 2s 4ms/step - loss: 1.2183e-09 - accuracy: 1.0000 - val_loss: 0.2141 - val_accuracy: 0.9820\n",
      "Epoch 102/200\n",
      "500/500 [==============================] - 2s 4ms/step - loss: 1.1086e-09 - accuracy: 1.0000 - val_loss: 0.2144 - val_accuracy: 0.9820\n",
      "Epoch 103/200\n",
      "500/500 [==============================] - 2s 5ms/step - loss: 1.0681e-09 - accuracy: 1.0000 - val_loss: 0.2149 - val_accuracy: 0.9820\n",
      "Epoch 104/200\n",
      "500/500 [==============================] - 2s 5ms/step - loss: 9.8944e-10 - accuracy: 1.0000 - val_loss: 0.2153 - val_accuracy: 0.9820\n",
      "Epoch 105/200\n",
      "500/500 [==============================] - 2s 5ms/step - loss: 9.5844e-10 - accuracy: 1.0000 - val_loss: 0.2155 - val_accuracy: 0.9820\n",
      "Epoch 106/200\n",
      "500/500 [==============================] - 2s 5ms/step - loss: 8.6069e-10 - accuracy: 1.0000 - val_loss: 0.2153 - val_accuracy: 0.9820\n",
      "Epoch 107/200\n"
     ]
    },
    {
     "name": "stdout",
     "output_type": "stream",
     "text": [
      "500/500 [==============================] - 2s 4ms/step - loss: 8.1301e-10 - accuracy: 1.0000 - val_loss: 0.2157 - val_accuracy: 0.9820\n",
      "Epoch 108/200\n",
      "500/500 [==============================] - 2s 5ms/step - loss: 7.6771e-10 - accuracy: 1.0000 - val_loss: 0.2159 - val_accuracy: 0.9820\n",
      "Epoch 109/200\n",
      "500/500 [==============================] - 2s 5ms/step - loss: 7.3671e-10 - accuracy: 1.0000 - val_loss: 0.2160 - val_accuracy: 0.9820\n",
      "Epoch 110/200\n",
      "500/500 [==============================] - 3s 6ms/step - loss: 6.9380e-10 - accuracy: 1.0000 - val_loss: 0.2163 - val_accuracy: 0.9820\n",
      "Epoch 111/200\n",
      "500/500 [==============================] - 3s 5ms/step - loss: 6.6280e-10 - accuracy: 1.0000 - val_loss: 0.2163 - val_accuracy: 0.9820\n",
      "Epoch 112/200\n",
      "500/500 [==============================] - 2s 5ms/step - loss: 6.1512e-10 - accuracy: 1.0000 - val_loss: 0.2164 - val_accuracy: 0.9819\n",
      "Epoch 113/200\n",
      "500/500 [==============================] - 2s 5ms/step - loss: 5.8413e-10 - accuracy: 1.0000 - val_loss: 0.2165 - val_accuracy: 0.9819\n",
      "Epoch 114/200\n",
      "500/500 [==============================] - 2s 4ms/step - loss: 5.5075e-10 - accuracy: 1.0000 - val_loss: 0.2164 - val_accuracy: 0.9819\n",
      "Epoch 115/200\n",
      "500/500 [==============================] - 2s 4ms/step - loss: 5.6505e-10 - accuracy: 1.0000 - val_loss: 0.2166 - val_accuracy: 0.9819\n",
      "Epoch 116/200\n",
      "500/500 [==============================] - 2s 5ms/step - loss: 5.2452e-10 - accuracy: 1.0000 - val_loss: 0.2164 - val_accuracy: 0.9818\n",
      "Epoch 117/200\n",
      "500/500 [==============================] - 2s 5ms/step - loss: 5.0783e-10 - accuracy: 1.0000 - val_loss: 0.2162 - val_accuracy: 0.9819\n",
      "Epoch 118/200\n",
      "500/500 [==============================] - 2s 5ms/step - loss: 4.7207e-10 - accuracy: 1.0000 - val_loss: 0.2164 - val_accuracy: 0.9819\n",
      "Epoch 119/200\n",
      "500/500 [==============================] - 2s 5ms/step - loss: 4.7207e-10 - accuracy: 1.0000 - val_loss: 0.2163 - val_accuracy: 0.9820\n",
      "Epoch 120/200\n",
      "500/500 [==============================] - 2s 5ms/step - loss: 4.6968e-10 - accuracy: 1.0000 - val_loss: 0.2164 - val_accuracy: 0.9820\n",
      "Epoch 121/200\n",
      "500/500 [==============================] - 2s 5ms/step - loss: 4.7207e-10 - accuracy: 1.0000 - val_loss: 0.2164 - val_accuracy: 0.9820\n",
      "Epoch 122/200\n",
      "500/500 [==============================] - 2s 4ms/step - loss: 4.4346e-10 - accuracy: 1.0000 - val_loss: 0.2164 - val_accuracy: 0.9818\n",
      "Epoch 123/200\n",
      "500/500 [==============================] - 2s 5ms/step - loss: 4.1008e-10 - accuracy: 1.0000 - val_loss: 0.2165 - val_accuracy: 0.9820\n",
      "Epoch 124/200\n",
      "500/500 [==============================] - 2s 5ms/step - loss: 4.1723e-10 - accuracy: 1.0000 - val_loss: 0.2166 - val_accuracy: 0.9819\n",
      "Epoch 125/200\n",
      "500/500 [==============================] - 2s 5ms/step - loss: 4.1962e-10 - accuracy: 1.0000 - val_loss: 0.2164 - val_accuracy: 0.9819\n",
      "Epoch 126/200\n",
      "500/500 [==============================] - 2s 5ms/step - loss: 3.8624e-10 - accuracy: 1.0000 - val_loss: 0.2165 - val_accuracy: 0.9819\n",
      "Epoch 127/200\n",
      "500/500 [==============================] - 2s 4ms/step - loss: 3.9577e-10 - accuracy: 1.0000 - val_loss: 0.2163 - val_accuracy: 0.9819\n",
      "Epoch 128/200\n",
      "500/500 [==============================] - 2s 4ms/step - loss: 3.9577e-10 - accuracy: 1.0000 - val_loss: 0.2168 - val_accuracy: 0.9819\n",
      "Epoch 129/200\n",
      "500/500 [==============================] - 2s 4ms/step - loss: 3.8385e-10 - accuracy: 1.0000 - val_loss: 0.2166 - val_accuracy: 0.9819\n",
      "Epoch 130/200\n",
      "500/500 [==============================] - 2s 5ms/step - loss: 3.7193e-10 - accuracy: 1.0000 - val_loss: 0.2165 - val_accuracy: 0.9820\n",
      "Epoch 131/200\n",
      "500/500 [==============================] - 2s 5ms/step - loss: 3.8147e-10 - accuracy: 1.0000 - val_loss: 0.2168 - val_accuracy: 0.9820\n",
      "Epoch 132/200\n",
      "500/500 [==============================] - 3s 5ms/step - loss: 3.5524e-10 - accuracy: 1.0000 - val_loss: 0.2167 - val_accuracy: 0.9820\n",
      "Epoch 133/200\n",
      "500/500 [==============================] - 3s 5ms/step - loss: 3.8147e-10 - accuracy: 1.0000 - val_loss: 0.2167 - val_accuracy: 0.9820\n",
      "Epoch 134/200\n",
      "500/500 [==============================] - 2s 5ms/step - loss: 3.4094e-10 - accuracy: 1.0000 - val_loss: 0.2169 - val_accuracy: 0.9820\n",
      "Epoch 135/200\n",
      "500/500 [==============================] - 2s 5ms/step - loss: 3.4571e-10 - accuracy: 1.0000 - val_loss: 0.2169 - val_accuracy: 0.9820\n",
      "Epoch 136/200\n",
      "500/500 [==============================] - 2s 5ms/step - loss: 3.6716e-10 - accuracy: 1.0000 - val_loss: 0.2169 - val_accuracy: 0.9820\n",
      "Epoch 137/200\n",
      "500/500 [==============================] - 2s 5ms/step - loss: 3.1948e-10 - accuracy: 1.0000 - val_loss: 0.2171 - val_accuracy: 0.9821\n",
      "Epoch 138/200\n",
      "500/500 [==============================] - 2s 5ms/step - loss: 3.4332e-10 - accuracy: 1.0000 - val_loss: 0.2171 - val_accuracy: 0.9821\n",
      "Epoch 139/200\n",
      "500/500 [==============================] - 3s 5ms/step - loss: 3.3617e-10 - accuracy: 1.0000 - val_loss: 0.2173 - val_accuracy: 0.9821\n",
      "Epoch 140/200\n",
      "500/500 [==============================] - 3s 5ms/step - loss: 3.4571e-10 - accuracy: 1.0000 - val_loss: 0.2174 - val_accuracy: 0.9819\n",
      "Epoch 141/200\n",
      "500/500 [==============================] - 2s 4ms/step - loss: 3.1948e-10 - accuracy: 1.0000 - val_loss: 0.2175 - val_accuracy: 0.9819\n",
      "Epoch 142/200\n",
      "500/500 [==============================] - 2s 4ms/step - loss: 3.3855e-10 - accuracy: 1.0000 - val_loss: 0.2177 - val_accuracy: 0.9819\n",
      "Epoch 143/200\n",
      "500/500 [==============================] - 2s 4ms/step - loss: 2.8849e-10 - accuracy: 1.0000 - val_loss: 0.2177 - val_accuracy: 0.9819\n",
      "Epoch 144/200\n",
      "500/500 [==============================] - 2s 4ms/step - loss: 3.1948e-10 - accuracy: 1.0000 - val_loss: 0.2178 - val_accuracy: 0.9819\n",
      "Epoch 145/200\n",
      "500/500 [==============================] - 2s 4ms/step - loss: 3.3617e-10 - accuracy: 1.0000 - val_loss: 0.2180 - val_accuracy: 0.9819\n",
      "Epoch 146/200\n",
      "500/500 [==============================] - 2s 4ms/step - loss: 3.0518e-10 - accuracy: 1.0000 - val_loss: 0.2183 - val_accuracy: 0.9818\n",
      "Epoch 147/200\n",
      "500/500 [==============================] - 2s 4ms/step - loss: 3.2425e-10 - accuracy: 1.0000 - val_loss: 0.2184 - val_accuracy: 0.9819\n",
      "Epoch 148/200\n",
      "500/500 [==============================] - 2s 4ms/step - loss: 2.9325e-10 - accuracy: 1.0000 - val_loss: 0.2187 - val_accuracy: 0.9818\n",
      "Epoch 149/200\n",
      "500/500 [==============================] - 2s 4ms/step - loss: 3.1471e-10 - accuracy: 1.0000 - val_loss: 0.2190 - val_accuracy: 0.9818\n",
      "Epoch 150/200\n",
      "500/500 [==============================] - 2s 4ms/step - loss: 3.0279e-10 - accuracy: 1.0000 - val_loss: 0.2189 - val_accuracy: 0.9818\n",
      "Epoch 151/200\n",
      "500/500 [==============================] - 2s 4ms/step - loss: 3.0041e-10 - accuracy: 1.0000 - val_loss: 0.2193 - val_accuracy: 0.9818\n",
      "Epoch 152/200\n",
      "500/500 [==============================] - 2s 5ms/step - loss: 2.9564e-10 - accuracy: 1.0000 - val_loss: 0.2194 - val_accuracy: 0.9818\n",
      "Epoch 153/200\n",
      "500/500 [==============================] - 2s 5ms/step - loss: 2.8610e-10 - accuracy: 1.0000 - val_loss: 0.2196 - val_accuracy: 0.9817\n",
      "Epoch 154/200\n",
      "500/500 [==============================] - 2s 4ms/step - loss: 2.9087e-10 - accuracy: 1.0000 - val_loss: 0.2198 - val_accuracy: 0.9817\n",
      "Epoch 155/200\n",
      "500/500 [==============================] - 2s 4ms/step - loss: 3.1471e-10 - accuracy: 1.0000 - val_loss: 0.2201 - val_accuracy: 0.9817\n",
      "Epoch 156/200\n",
      "500/500 [==============================] - 2s 4ms/step - loss: 3.0756e-10 - accuracy: 1.0000 - val_loss: 0.2203 - val_accuracy: 0.9817\n",
      "Epoch 157/200\n",
      "500/500 [==============================] - 2s 4ms/step - loss: 2.7895e-10 - accuracy: 1.0000 - val_loss: 0.2205 - val_accuracy: 0.9817\n",
      "Epoch 158/200\n",
      "500/500 [==============================] - 2s 4ms/step - loss: 3.0279e-10 - accuracy: 1.0000 - val_loss: 0.2210 - val_accuracy: 0.9818\n",
      "Epoch 159/200\n",
      "500/500 [==============================] - 2s 4ms/step - loss: 3.1233e-10 - accuracy: 1.0000 - val_loss: 0.2211 - val_accuracy: 0.9818\n",
      "Epoch 160/200\n",
      "500/500 [==============================] - 2s 4ms/step - loss: 3.0041e-10 - accuracy: 1.0000 - val_loss: 0.2213 - val_accuracy: 0.9818\n",
      "Epoch 161/200\n",
      "500/500 [==============================] - 2s 4ms/step - loss: 2.9325e-10 - accuracy: 1.0000 - val_loss: 0.2216 - val_accuracy: 0.9818\n",
      "Epoch 162/200\n"
     ]
    },
    {
     "name": "stdout",
     "output_type": "stream",
     "text": [
      "500/500 [==============================] - 2s 4ms/step - loss: 2.9087e-10 - accuracy: 1.0000 - val_loss: 0.2218 - val_accuracy: 0.9817\n",
      "Epoch 163/200\n",
      "500/500 [==============================] - 2s 4ms/step - loss: 2.9564e-10 - accuracy: 1.0000 - val_loss: 0.2221 - val_accuracy: 0.9815\n",
      "Epoch 164/200\n",
      "500/500 [==============================] - 2s 4ms/step - loss: 2.7657e-10 - accuracy: 1.0000 - val_loss: 0.2223 - val_accuracy: 0.9817\n",
      "Epoch 165/200\n",
      "500/500 [==============================] - 2s 5ms/step - loss: 3.0756e-10 - accuracy: 1.0000 - val_loss: 0.2226 - val_accuracy: 0.9817\n",
      "Epoch 166/200\n",
      "500/500 [==============================] - 2s 5ms/step - loss: 3.1233e-10 - accuracy: 1.0000 - val_loss: 0.2230 - val_accuracy: 0.9817\n",
      "Epoch 167/200\n",
      "500/500 [==============================] - 2s 4ms/step - loss: 3.2902e-10 - accuracy: 1.0000 - val_loss: 0.2232 - val_accuracy: 0.9816\n",
      "Epoch 168/200\n",
      "500/500 [==============================] - 2s 4ms/step - loss: 2.7657e-10 - accuracy: 1.0000 - val_loss: 0.2236 - val_accuracy: 0.9815\n",
      "Epoch 169/200\n",
      "500/500 [==============================] - 2s 4ms/step - loss: 3.0279e-10 - accuracy: 1.0000 - val_loss: 0.2240 - val_accuracy: 0.9815\n",
      "Epoch 170/200\n",
      "500/500 [==============================] - 2s 4ms/step - loss: 2.8610e-10 - accuracy: 1.0000 - val_loss: 0.2243 - val_accuracy: 0.9815\n",
      "Epoch 171/200\n",
      "500/500 [==============================] - 2s 4ms/step - loss: 2.8372e-10 - accuracy: 1.0000 - val_loss: 0.2244 - val_accuracy: 0.9816\n",
      "Epoch 172/200\n",
      "500/500 [==============================] - 2s 4ms/step - loss: 3.1710e-10 - accuracy: 1.0000 - val_loss: 0.2248 - val_accuracy: 0.9817\n",
      "Epoch 173/200\n",
      "500/500 [==============================] - 2s 4ms/step - loss: 3.2425e-10 - accuracy: 1.0000 - val_loss: 0.2250 - val_accuracy: 0.9817\n",
      "Epoch 174/200\n",
      "500/500 [==============================] - 2s 4ms/step - loss: 3.0994e-10 - accuracy: 1.0000 - val_loss: 0.2255 - val_accuracy: 0.9817\n",
      "Epoch 175/200\n",
      "500/500 [==============================] - 2s 4ms/step - loss: 3.0279e-10 - accuracy: 1.0000 - val_loss: 0.2259 - val_accuracy: 0.9817\n",
      "Epoch 176/200\n",
      "500/500 [==============================] - 2s 5ms/step - loss: 3.0041e-10 - accuracy: 1.0000 - val_loss: 0.2261 - val_accuracy: 0.9817\n",
      "Epoch 177/200\n",
      "500/500 [==============================] - 2s 4ms/step - loss: 3.0279e-10 - accuracy: 1.0000 - val_loss: 0.2262 - val_accuracy: 0.9818\n",
      "Epoch 178/200\n",
      "500/500 [==============================] - 2s 4ms/step - loss: 3.0994e-10 - accuracy: 1.0000 - val_loss: 0.2267 - val_accuracy: 0.9817\n",
      "Epoch 179/200\n",
      "500/500 [==============================] - 2s 4ms/step - loss: 3.1710e-10 - accuracy: 1.0000 - val_loss: 0.2270 - val_accuracy: 0.9818\n",
      "Epoch 180/200\n",
      "500/500 [==============================] - 2s 4ms/step - loss: 3.1710e-10 - accuracy: 1.0000 - val_loss: 0.2275 - val_accuracy: 0.9818\n",
      "Epoch 181/200\n",
      "500/500 [==============================] - 2s 4ms/step - loss: 3.0756e-10 - accuracy: 1.0000 - val_loss: 0.2279 - val_accuracy: 0.9819\n",
      "Epoch 182/200\n",
      "500/500 [==============================] - 2s 5ms/step - loss: 3.1948e-10 - accuracy: 1.0000 - val_loss: 0.2282 - val_accuracy: 0.9817\n",
      "Epoch 183/200\n",
      "500/500 [==============================] - 2s 5ms/step - loss: 3.1710e-10 - accuracy: 1.0000 - val_loss: 0.2283 - val_accuracy: 0.9818\n",
      "Epoch 184/200\n",
      "500/500 [==============================] - 3s 5ms/step - loss: 3.2187e-10 - accuracy: 1.0000 - val_loss: 0.2288 - val_accuracy: 0.9818\n",
      "Epoch 185/200\n",
      "500/500 [==============================] - 2s 4ms/step - loss: 3.0518e-10 - accuracy: 1.0000 - val_loss: 0.2292 - val_accuracy: 0.9816\n",
      "Epoch 186/200\n",
      "500/500 [==============================] - 2s 4ms/step - loss: 3.3617e-10 - accuracy: 1.0000 - val_loss: 0.2296 - val_accuracy: 0.9817\n",
      "Epoch 187/200\n",
      "500/500 [==============================] - 2s 4ms/step - loss: 3.1948e-10 - accuracy: 1.0000 - val_loss: 0.2301 - val_accuracy: 0.9818\n",
      "Epoch 188/200\n",
      "500/500 [==============================] - 2s 5ms/step - loss: 3.2663e-10 - accuracy: 1.0000 - val_loss: 0.2303 - val_accuracy: 0.9819\n",
      "Epoch 189/200\n",
      "500/500 [==============================] - 2s 4ms/step - loss: 3.6001e-10 - accuracy: 1.0000 - val_loss: 0.2307 - val_accuracy: 0.9819\n",
      "Epoch 190/200\n",
      "500/500 [==============================] - 2s 5ms/step - loss: 3.3855e-10 - accuracy: 1.0000 - val_loss: 0.2313 - val_accuracy: 0.9819\n",
      "Epoch 191/200\n",
      "500/500 [==============================] - 2s 4ms/step - loss: 3.1710e-10 - accuracy: 1.0000 - val_loss: 0.2315 - val_accuracy: 0.9819\n",
      "Epoch 192/200\n",
      "500/500 [==============================] - 2s 4ms/step - loss: 3.2187e-10 - accuracy: 1.0000 - val_loss: 0.2319 - val_accuracy: 0.9819\n",
      "Epoch 193/200\n",
      "500/500 [==============================] - 2s 4ms/step - loss: 3.2902e-10 - accuracy: 1.0000 - val_loss: 0.2326 - val_accuracy: 0.9818\n",
      "Epoch 194/200\n",
      "500/500 [==============================] - 2s 4ms/step - loss: 3.5048e-10 - accuracy: 1.0000 - val_loss: 0.2326 - val_accuracy: 0.9819\n",
      "Epoch 195/200\n",
      "500/500 [==============================] - 2s 4ms/step - loss: 3.2902e-10 - accuracy: 1.0000 - val_loss: 0.2331 - val_accuracy: 0.9819\n",
      "Epoch 196/200\n",
      "500/500 [==============================] - 2s 4ms/step - loss: 3.6478e-10 - accuracy: 1.0000 - val_loss: 0.2336 - val_accuracy: 0.9818\n",
      "Epoch 197/200\n",
      "500/500 [==============================] - 2s 4ms/step - loss: 3.5048e-10 - accuracy: 1.0000 - val_loss: 0.2339 - val_accuracy: 0.9817\n",
      "Epoch 198/200\n",
      "500/500 [==============================] - 2s 4ms/step - loss: 3.4571e-10 - accuracy: 1.0000 - val_loss: 0.2345 - val_accuracy: 0.9817\n",
      "Epoch 199/200\n",
      "500/500 [==============================] - 2s 4ms/step - loss: 3.4809e-10 - accuracy: 1.0000 - val_loss: 0.2349 - val_accuracy: 0.9817\n",
      "Epoch 200/200\n",
      "500/500 [==============================] - 2s 4ms/step - loss: 3.6478e-10 - accuracy: 1.0000 - val_loss: 0.2354 - val_accuracy: 0.9817\n"
     ]
    }
   ],
   "source": [
    "## put the construction and training of your best model here:\n",
    "from tensorflow import keras\n",
    "\n",
    "print(tf.__version__)\n",
    "print(keras.__version__)\n",
    "\n",
    "from tensorflow.keras.models import Sequential\n",
    "from tensorflow.keras.layers import Dense, Dropout\n",
    "from tensorflow.keras.optimizers import RMSprop\n",
    "\n",
    "batch_size = 100\n",
    "num_classes = 10\n",
    "epochs = 200\n",
    "\n",
    "print(X_train.shape[0], 'train samples')\n",
    "print(X_test.shape[0], 'test samples')\n",
    "\n",
    "## convert class vectors to binary class matrices\n",
    "y_train_c = keras.utils.to_categorical(y_train, num_classes)\n",
    "y_test_c = keras.utils.to_categorical(y_test, num_classes)\n",
    "\n",
    "model1 = Sequential()\n",
    "model1.add(Dense(250, activation='relu', input_shape=(784,)))\n",
    "model1.add(Dense( 150, activation='relu'))\n",
    "model1.add(Dense(num_classes, activation='softmax'))\n",
    "\n",
    "model1.summary()\n",
    "\n",
    "model1.compile(loss='categorical_crossentropy',\n",
    "              optimizer='adam',\n",
    "              metrics=['accuracy'])\n",
    "\n",
    "history1 = model1.fit(X_train, y_train_c,\n",
    "                    batch_size=batch_size,\n",
    "                    epochs=epochs,\n",
    "                    verbose=1,\n",
    "                    validation_data=(X_test, y_test_c))"
   ]
  },
  {
   "cell_type": "code",
   "execution_count": 63,
   "metadata": {},
   "outputs": [
    {
     "name": "stdout",
     "output_type": "stream",
     "text": [
      "Test loss: 0.23544253408908844\n",
      "Test accuracy: 0.9817000031471252\n"
     ]
    }
   ],
   "source": [
    "## score your best model\n",
    "score1= model1.evaluate(X_test, y_test_c, verbose=0)\n",
    "print('Test loss:', score1[0])\n",
    "print('Test accuracy:', score1[1])\n"
   ]
  },
  {
   "cell_type": "code",
   "execution_count": 69,
   "metadata": {},
   "outputs": [
    {
     "data": {
      "image/png": "[encoded data removed]",
      "text/plain": [
       "<Figure size 432x288 with 1 Axes>"
      ]
     },
     "metadata": {
      "needs_background": "light"
     },
     "output_type": "display_data"
    },
    {
     "data": {
      "text/plain": [
       "<Figure size 432x288 with 0 Axes>"
      ]
     },
     "metadata": {},
     "output_type": "display_data"
    }
   ],
   "source": [
    "## plot loss  and val set of your best model\n",
    "\n",
    "plt.subplot(212)\n",
    "plt.plot(history1.history['loss'])\n",
    "plt.plot(history1.history['val_loss'])\n",
    "plt.title('Model Loss')\n",
    "plt.ylabel('Loss')\n",
    "plt.xlabel('Epoch')\n",
    "plt.legend(['Training', 'Validation'], loc='upper right')\n",
    "\n",
    "plt.tight_layout()\n",
    "plt.show()\n",
    "plt.savefig(\"loss1.svg\") "
   ]
  },
  {
   "cell_type": "code",
   "execution_count": 70,
   "metadata": {},
   "outputs": [
    {
     "data": {
      "image/png": "[encoded data removed]",
      "text/plain": [
       "<Figure size 432x288 with 1 Axes>"
      ]
     },
     "metadata": {
      "needs_background": "light"
     },
     "output_type": "display_data"
    },
    {
     "data": {
      "text/plain": [
       "<Figure size 432x288 with 0 Axes>"
      ]
     },
     "metadata": {},
     "output_type": "display_data"
    }
   ],
   "source": [
    "## plot  acc and val set of your best model\n",
    "plt.subplot(212)\n",
    "plt.plot(history1.history['accuracy'])\n",
    "plt.plot(history1.history['val_accuracy'])\n",
    "plt.title('Model accuracy')\n",
    "plt.ylabel('accuracy')\n",
    "plt.xlabel('Epoch')\n",
    "plt.legend(['Training', 'Validation'], loc='upper right')\n",
    "\n",
    "plt.tight_layout()\n",
    "plt.show()\n",
    "plt.savefig(\"accuracy1.svg\") "
   ]
  },
  {
   "cell_type": "markdown",
   "metadata": {},
   "source": [
    "### Question 2\n",
    "\n",
    "Compare the two plots. \n",
    "\n",
    "1. What difference do you see? \n",
    "2. Can you explain them?\n",
    "\n",
    "### Answers\n",
    "\n",
    "1. in the second loss graph from the 50 epoch there are no more spikes\n",
    "2. "
   ]
  },
  {
   "cell_type": "markdown",
   "metadata": {},
   "source": [
    "To use the model for \"production\" on a special device (e.g. cash mashine, mobile phone) or in a web service, the model needs to be exported and loaded on the target device.\n",
    "\n",
    "### Exercise 5\n",
    "\n",
    "Export your best model in H5 format and then load it again (as you would do on a target device) wiht a different name and test it by running predictions (scoring) on the test set."
   ]
  },
  {
   "cell_type": "code",
   "execution_count": null,
   "metadata": {},
   "outputs": [],
   "source": [
    "## export model as H5\n",
    "model1.save('C:\\Users\\Admin\\Desktop\\Aufgabe 12')\n",
    "\n",
    "## load model from H5 under different name\n",
    "\n",
    "## sore the test set\n"
   ]
  },
  {
   "cell_type": "markdown",
   "metadata": {},
   "source": [
    "Model saving can also be used for `EarlyStopping`.\n",
    "\n",
    "### Optional 2\n",
    "\n",
    "Train your best model until it obviously overfits the validation data. Use an EarlyStopping callback to get the model when the validation loss/acc was best, following this [tutorial](https://nbviewer.jupyter.org/github/ageron/handson-ml2/blob/92b5f83f8a/10_neural_nets_with_keras.ipynb#10.)."
   ]
  },
  {
   "cell_type": "markdown",
   "metadata": {},
   "source": [
    "Finally check how your best model performs on the (never seen) test set:"
   ]
  },
  {
   "cell_type": "markdown",
   "metadata": {},
   "source": [
    "### Optional 3\n",
    "\n",
    "To get a feeling how much work it is to create a training dataset, test the model prediction on some digits you wrote yourself!"
   ]
  }
 ],
 "metadata": {
  "kernelspec": {
   "display_name": "Python 3",
   "language": "python",
   "name": "python3"
  },
  "language_info": {
   "codemirror_mode": {
    "name": "ipython",
    "version": 3
   },
   "file_extension": ".py",
   "mimetype": "text/x-python",
   "name": "python",
   "nbconvert_exporter": "python",
   "pygments_lexer": "ipython3",
   "version": "3.8.5"
  }
 },
 "nbformat": 4,
 "nbformat_minor": 2
}
